{
 "cells": [
  {
   "cell_type": "markdown",
   "metadata": {},
   "source": [
    "Let's start by importing the useful libraries and classes."
   ]
  },
  {
   "cell_type": "code",
   "execution_count": 30,
   "metadata": {},
   "outputs": [],
   "source": [
    "import libs\n",
    "from classes.LP import LabelPropagation\n",
    "from classes.DATAPREP import Dataprep\n",
    "from classes.CRF import Crf\n",
    "from classes.WRAPPER import WrapLabelSpreading\n",
    "from classes.W2V import Word2Vec\n",
    "from classes.CROSSVALIDATION import CrossValidation\n",
    "from classes.INTERPOLATION import Interpolation"
   ]
  },
  {
   "cell_type": "markdown",
   "metadata": {},
   "source": [
    "Then import data"
   ]
  },
  {
   "cell_type": "code",
   "execution_count": 47,
   "metadata": {},
   "outputs": [
    {
     "data": {
      "text/html": [
       "<div>\n",
       "<style scoped>\n",
       "    .dataframe tbody tr th:only-of-type {\n",
       "        vertical-align: middle;\n",
       "    }\n",
       "\n",
       "    .dataframe tbody tr th {\n",
       "        vertical-align: top;\n",
       "    }\n",
       "\n",
       "    .dataframe thead th {\n",
       "        text-align: right;\n",
       "    }\n",
       "</style>\n",
       "<table border=\"1\" class=\"dataframe\">\n",
       "  <thead>\n",
       "    <tr style=\"text-align: right;\">\n",
       "      <th></th>\n",
       "      <th>Sentence #</th>\n",
       "      <th>Word</th>\n",
       "      <th>POS</th>\n",
       "      <th>Tag</th>\n",
       "    </tr>\n",
       "  </thead>\n",
       "  <tbody>\n",
       "    <tr>\n",
       "      <th>0</th>\n",
       "      <td>Sentence: 1</td>\n",
       "      <td>Thousands</td>\n",
       "      <td>NNS</td>\n",
       "      <td>O</td>\n",
       "    </tr>\n",
       "    <tr>\n",
       "      <th>1</th>\n",
       "      <td>Sentence: 1</td>\n",
       "      <td>of</td>\n",
       "      <td>IN</td>\n",
       "      <td>O</td>\n",
       "    </tr>\n",
       "    <tr>\n",
       "      <th>2</th>\n",
       "      <td>Sentence: 1</td>\n",
       "      <td>demonstrators</td>\n",
       "      <td>NNS</td>\n",
       "      <td>O</td>\n",
       "    </tr>\n",
       "    <tr>\n",
       "      <th>3</th>\n",
       "      <td>Sentence: 1</td>\n",
       "      <td>have</td>\n",
       "      <td>VBP</td>\n",
       "      <td>O</td>\n",
       "    </tr>\n",
       "    <tr>\n",
       "      <th>4</th>\n",
       "      <td>Sentence: 1</td>\n",
       "      <td>marched</td>\n",
       "      <td>VBN</td>\n",
       "      <td>O</td>\n",
       "    </tr>\n",
       "  </tbody>\n",
       "</table>\n",
       "</div>"
      ],
      "text/plain": [
       "    Sentence #           Word  POS Tag\n",
       "0  Sentence: 1      Thousands  NNS   O\n",
       "1  Sentence: 1             of   IN   O\n",
       "2  Sentence: 1  demonstrators  NNS   O\n",
       "3  Sentence: 1           have  VBP   O\n",
       "4  Sentence: 1        marched  VBN   O"
      ]
     },
     "execution_count": 47,
     "metadata": {},
     "output_type": "execute_result"
    }
   ],
   "source": [
    "data = pd.read_csv(\"/home/sgoutin/Bureau/Projet perso/ner_dataset.csv\", encoding=\"latin1\")\n",
    "data = data.fillna(method=\"ffill\")\n",
    "data.head()"
   ]
  },
  {
   "cell_type": "markdown",
   "metadata": {},
   "source": [
    "The Dataprep class has been designed to prepare data for CRF and Label propagation.\n",
    "Unfortunatly, we are forced to use a sub-sample of the data because we will not be able to create a $n \\times n$ matrix with a large value of $n$ as mentionned in the *README* file."
   ]
  },
  {
   "cell_type": "code",
   "execution_count": 48,
   "metadata": {},
   "outputs": [],
   "source": [
    "d = Dataprep(data[:20000])"
   ]
  },
  {
   "cell_type": "markdown",
   "metadata": {},
   "source": [
    "Here we can see that we formulate the problem as an IOB (Inside, Outside, Beginning) tagging problem."
   ]
  },
  {
   "cell_type": "code",
   "execution_count": 49,
   "metadata": {},
   "outputs": [
    {
     "data": {
      "text/plain": [
       "{'B', 'I', 'O'}"
      ]
     },
     "execution_count": 49,
     "metadata": {},
     "output_type": "execute_result"
    }
   ],
   "source": [
    "set([w[0] for w in d.tags])"
   ]
  },
  {
   "cell_type": "markdown",
   "metadata": {},
   "source": [
    "## Fitting the models separatly"
   ]
  },
  {
   "cell_type": "markdown",
   "metadata": {},
   "source": [
    "### F1 score"
   ]
  },
  {
   "cell_type": "markdown",
   "metadata": {},
   "source": [
    "To measure the quality of all our models, we use the F1 score ignoring the values tagged as outside."
   ]
  },
  {
   "cell_type": "code",
   "execution_count": 50,
   "metadata": {},
   "outputs": [],
   "source": [
    "f1_scorer = make_scorer(metrics.flat_f1_score, average='weighted', labels=[w for w in d.tags if w!=\"O\"])"
   ]
  },
  {
   "cell_type": "markdown",
   "metadata": {},
   "source": [
    "### CRF"
   ]
  },
  {
   "cell_type": "markdown",
   "metadata": {},
   "source": [
    "CRF training dataset is built"
   ]
  },
  {
   "cell_type": "code",
   "execution_count": 51,
   "metadata": {},
   "outputs": [],
   "source": [
    "d.dataset_crf()"
   ]
  },
  {
   "cell_type": "markdown",
   "metadata": {},
   "source": [
    "Now we use GridSearch to tune parameters to find best f1 score for CRF."
   ]
  },
  {
   "cell_type": "code",
   "execution_count": 52,
   "metadata": {},
   "outputs": [
    {
     "name": "stdout",
     "output_type": "stream",
     "text": [
      "Fitting 5 folds for each of 1 candidates, totalling 5 fits\n"
     ]
    },
    {
     "name": "stderr",
     "output_type": "stream",
     "text": [
      "[Parallel(n_jobs=1)]: Using backend SequentialBackend with 1 concurrent workers.\n",
      "[Parallel(n_jobs=1)]: Done   5 out of   5 | elapsed:  1.7min finished\n"
     ]
    },
    {
     "name": "stdout",
     "output_type": "stream",
     "text": [
      "{'algorithm': 'lbfgs', 'c1': 0.1, 'c2': 0.1}\n"
     ]
    }
   ],
   "source": [
    "tuned_parameters = [{'algorithm': ['lbfgs'], 'c1': [0.1], 'c2': [0.1]}]\n",
    "GS = GridSearchCV(CRF(), tuned_parameters, f1_scorer, verbose=1)\n",
    "GS.fit(d.x_crf, d.y_crf)\n",
    "print(GS.best_params_)"
   ]
  },
  {
   "cell_type": "markdown",
   "metadata": {},
   "source": [
    "### Label spreading"
   ]
  },
  {
   "cell_type": "markdown",
   "metadata": {},
   "source": [
    "To construct the graph, tokens are modeled with a vectorization of 5 grams centered by the current token performed by a word embedding model. With word2vec, the 5-grams vector is computed in performing an average of the words vectors weighted with the tf-idf method.\n",
    "\n",
    "We use a pre-trained word2vec model from google and perform a basic transfert learning."
   ]
  },
  {
   "cell_type": "code",
   "execution_count": 53,
   "metadata": {},
   "outputs": [],
   "source": [
    "w2v = Word2VecModel(300, 5, 1, 2)\n",
    "w2v.pre_trained(\"/home/sgoutin/Bureau/Projet perso/GoogleNews-vectors-negative300.bin\", d.sentences_word)\n",
    "\n",
    "d.addW2v(w2v)"
   ]
  },
  {
   "cell_type": "markdown",
   "metadata": {},
   "source": [
    "Label propagation training dataset is built"
   ]
  },
  {
   "cell_type": "code",
   "execution_count": null,
   "metadata": {},
   "outputs": [],
   "source": [
    "d.dataset_lp()"
   ]
  },
  {
   "cell_type": "markdown",
   "metadata": {},
   "source": [
    "Then we use GridSearch again to tune parameters to find best f1 score for CRF.\n",
    "\n",
    "* In order to perform a grid search over label spreading as a semi-supervised model, we need to search over the transductive accuracy. That's why we need to provide a wrapper that masks a subset of the data before the fitting step. This is the purpose of the WrapLabelSpreading class.\n",
    "\n",
    "* In performing GridSearch on Label spreading, I didn't find out how to use our f1 metrics as scorer. Default scorer used by GridSearch for multiclass problem is subset accuracy, which is unsuitable for our problem."
   ]
  },
  {
   "cell_type": "code",
   "execution_count": 55,
   "metadata": {},
   "outputs": [
    {
     "name": "stdout",
     "output_type": "stream",
     "text": [
      "{'alpha': 0.9, 'max_iter': 100, 'n_jobs': -1, 'n_neighbors': 15}\n"
     ]
    }
   ],
   "source": [
    "X, y = [w for s in d.X_LP for w in s], [w for s in d.y_LP for w in s]\n",
    "\n",
    "lp = GridSearchCV(\n",
    "                WrapLabelSpreading(kernel='knn', supervision_fraction=0.05),\n",
    "                param_grid={\n",
    "                    'n_jobs': [-1],\n",
    "                    'max_iter': [100],\n",
    "                    'alpha': [0.9],\n",
    "                    'n_neighbors': [15]})\n",
    "lp.fit(np.array(X), np.array(y))\n",
    "print(lp.best_params_)"
   ]
  },
  {
   "cell_type": "markdown",
   "metadata": {},
   "source": [
    "## Combine Label spreading and CRF"
   ]
  },
  {
   "cell_type": "markdown",
   "metadata": {},
   "source": [
    "Now that we get our best parameters for each model, we should look for the best mixing coefficient. \n",
    "\n",
    "This mean we need to find the best $\\alpha \\in [0,1]$ such as the interpolation $predCRF \\times \\alpha + predLP \\times (1-\\alpha)$ leads to the best f1 score."
   ]
  },
  {
   "cell_type": "code",
   "execution_count": 56,
   "metadata": {},
   "outputs": [],
   "source": [
    "param_crf = {\"c1\":0.1, \"c2\":0.1}\n",
    "param_lp = {\"alpha\":0.9, \"n_neighbors\":15}"
   ]
  },
  {
   "cell_type": "markdown",
   "metadata": {},
   "source": [
    "We search the best $\\alpha$ by applying a cross-validation for a range of values. A score is returned for each of them."
   ]
  },
  {
   "cell_type": "code",
   "execution_count": 29,
   "metadata": {},
   "outputs": [],
   "source": [
    "cv = cross_validation(d, fold=5)\n",
    "scores = cv.perform_recherche_mixture(param_crf, param_lp)"
   ]
  },
  {
   "cell_type": "markdown",
   "metadata": {},
   "source": [
    "Now we can plot the f1 score for each value of alpha"
   ]
  },
  {
   "cell_type": "code",
   "execution_count": 46,
   "metadata": {},
   "outputs": [
    {
     "data": {
      "image/png": "[encoded data removed]",
      "text/plain": [
       "<Figure size 432x288 with 1 Axes>"
      ]
     },
     "metadata": {
      "needs_background": "light"
     },
     "output_type": "display_data"
    }
   ],
   "source": [
    "alphas = np.arange(0, 1, 0.05).tolist()\n",
    "\n",
    "plt.plot(alphas, scores)\n",
    "plt.ylabel('f1 score')\n",
    "plt.xlabel('alpha')\n",
    "plt.show()"
   ]
  },
  {
   "cell_type": "markdown",
   "metadata": {},
   "source": [
    "Let's take a look at the first values of alpha (before the collapse of alpha)."
   ]
  },
  {
   "cell_type": "code",
   "execution_count": 44,
   "metadata": {},
   "outputs": [
    {
     "data": {
      "image/png": "[encoded data removed]",
      "text/plain": [
       "<Figure size 432x288 with 1 Axes>"
      ]
     },
     "metadata": {
      "needs_background": "light"
     },
     "output_type": "display_data"
    }
   ],
   "source": [
    "plt.plot(alphas[:10], scores[:10])\n",
    "plt.ylabel('f1 score')\n",
    "plt.xlabel('alpha')\n",
    "plt.show()"
   ]
  },
  {
   "cell_type": "markdown",
   "metadata": {},
   "source": [
    "$\\alpha$ equal to 0 means we only take in account the CRF predictions.\n",
    "The f1 score increases slowly until it reaches 0.8 for $\\alpha$ = 0.35 before collapsing.\n",
    "The best $\\alpha$ is 0.4 but the score is only 0.2% higher than that for $\\alpha$ = 0 which does not seems to be significant."
   ]
  },
  {
   "cell_type": "markdown",
   "metadata": {},
   "source": [
    "These bad results might be caused by :\n",
    "* A bad parameters tuning of the label propagation model due to the use of the subset accuracy metric.\n",
    "* The use of a subsamble. We couldn't take advantage of the large quantity of unlabeled data."
   ]
  }
 ],
 "metadata": {
  "kernelspec": {
   "display_name": "Python 3",
   "language": "python",
   "name": "python3"
  },
  "language_info": {
   "codemirror_mode": {
    "name": "ipython",
    "version": 3
   },
   "file_extension": ".py",
   "mimetype": "text/x-python",
   "name": "python",
   "nbconvert_exporter": "python",
   "pygments_lexer": "ipython3",
   "version": "3.8.3"
  }
 },
 "nbformat": 4,
 "nbformat_minor": 4
}
